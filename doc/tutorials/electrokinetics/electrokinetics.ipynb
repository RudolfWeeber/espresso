{
 "cells": [
  {
   "cell_type": "markdown",
   "metadata": {},
   "source": [
    "# Electrokinetics"
   ]
  },
  {
   "cell_type": "markdown",
   "metadata": {},
   "source": [
    "## Table of Contents\n",
    "1. [Introduction](#Introduction)\n",
    "2. [Theoretical Background](#Theoretical-Background)\n",
    "   1. [The Electrokinetic Equations](#The-Electrokinetic-Equations)\n",
    "   2. [EOF in the Slit Pore Geometry](#EOF-in-the-Slit-Pore-Geometry)\n",
    "3. [Simulation using ESPResSo](#Simulation-using-ESPResSo)\n",
    "   1. [Mapping SI and Simulation Units](#Mapping-SI-and-Simulation-Units)\n",
    "   2. [Setting up the slit pore system](#Setting-up-the-slit-pore-system)\n",
    "4. [References](#References)\n",
    "    "
   ]
  },
  {
   "cell_type": "markdown",
   "metadata": {},
   "source": [
    "## Introduction\n",
    "\n",
    "In recent years the lattice-Boltzmann method (LBM) has proven itself to be a viable way to introduce hydrodynamic interactions into coarse-grained MD simulations with moderate computational cost.\n",
    "ESPResSo features such an algorithm, which can make use of the LBM and extend it to coarse-grain not only the solvent molecules but also ionic solutes. It is called EK and explicitly treats the ionic solutes in a continuum fashion and is valid for a wide range of salt concentrations [1-3].\n",
    "\n",
    "### Tutorial Outline\n",
    "\n",
    "To make our first steps using ELECTROKINETICS we will work on one of the few systems for which analytic solutions for the electrokinetic equations exist: the slip pore geometry with a counterion-only electrolyte.\n",
    "The same slit pore system is also treated in the LBM tutorial, but there, the ionic species were modeled as explicit particles.\n",
    "For this system, the two approaches lead to exactly the same results [4].\n",
    "Differences became significant for multivalent ions, very high salt concentrations, and very high surface charge, since then the mean-field approach the EK employs, is basically solving the Poisson-Nernst-Planck formalism plus the Navier-Stokes equation on a lattice.\n",
    "This leads to significantly different results from explicit ion approaches [5-7].\n",
    "This tutorial is mainly divided into two sections.\n",
    "* **Theoretical Background** introduces the electrokinetic equations and the analytical solution for the slit pore system.\n",
    "* **Simulation using ESPResSo** deals exclusively with the simulation. \n",
    "\n",
    "If you already know about simple diffusion-migration-advection equations, continuum electrostatics, and Navier-Stokes, then you can skip the first section."
   ]
  },
  {
   "cell_type": "markdown",
   "metadata": {},
   "source": [
    "## Theoretical Background\n"
   ]
  },
  {
   "cell_type": "markdown",
   "metadata": {},
   "source": [
    "### The Electrokinetic Equations\n",
    "\n",
    "In the following, we will derive the equations modeling the time evolution of the concentrations of dissolved species as well as the solvent in the standard electrokinetic model.\n",
    "We do so, neglecting the salt ions' contribution to the overall mass density, which allows us to treat the dynamics of the ions and the fluid separately [7].\n",
    "The solvent fluid will be modeled using the Navier-Stokes equations while we use a set of diffusion-migration-advection equations for the ionic species.\n"
   ]
  },
  {
   "cell_type": "markdown",
   "metadata": {},
   "source": [
    "#### Ionic Species\n",
    "\n",
    "The description starts with the ionic species' concentrations $c_{k}(\\vec{r}, t)$ (number density) and the associated flux densities $\\vec{j}_{k}(\\vec{r}, t)$, for which mass conservation holds\n",
    "\n",
    "\\begin{equation}\n",
    "\\partial_{t} c_{k} = -\\nabla \\cdot\\vec{j}_{k} . \n",
    "\\end{equation}\n",
    "\n",
    "Here $\\vec{r}$ denotes the spatial coordinate and $t$ the time, while $k$ enumerates the ionic species.\n",
    "The fluxes are caused by diffusion (due to density variations and external forces) and advection.\n",
    "\n",
    "The advective contribution to the flux is given by\n",
    "\n",
    "\\begin{equation}\n",
    "\\vec{j}_{k}^{\\mathrm{adv.}} = c_{k} \\vec{u} ,\n",
    "\\end{equation}\n",
    "\n",
    "where $\\vec{u}(\\vec{r}, t)$ denotes the fluid velocity (advective velocity).\n",
    "This equation models advection as a simple co-movement of the dissolved ions with the surrounding fluid.\n",
    "All inertial effects of the ions are neglected.\n",
    "\n",
    "The diffusive behavior of the ions is best described in a reference frame co-moving with the local advective velocity $\\vec{u}$.\n",
    "We assume that the species' relative fluxes instantaneously relax to a local equilibrium.\n",
    "This assumption allows us to derive the diffusive fluxes from a local free-energy density, which we define as\n",
    "\n",
    "\\begin{equation}\n",
    "f \\big( c_{k}(\\vec{r}) \\big) = \\sum_{k} \\underbrace{k_{\\mathrm{B}}T c_{k}(\\vec{r}) \\left[ \\log \\left\\lbrace \\Lambda_{k}^{3} c_{k}(\\vec{r}) \\right\\rbrace - 1 \\right] }_{\\mathrm{ideal~gas~contribution}} + \\underbrace{z_{k} e c_{k}(\\vec{r}) \\Phi(\\vec{r})}_{\\mathrm{electrostatic~contribution}} ,\n",
    "\\end{equation}\n",
    "\n",
    "with the $\\Lambda_{k}$ the species' thermal de Broglie wavelengths, $z_{k}$ their valencies, and $\\Phi(\\vec{r})$ the electrostatic potential.\n",
    "This free-energy density consists of only an ideal-gas and an electrostatic contribution.\n",
    "The same assumptions form the basis of Poisson-Boltzmann (PB) theory.\n",
    "Hence, the limitations of this model are the same as those of PB.\n",
    "That means this model applies to monovalent ions at low to intermediate densities and surface charges [5,6,10,11].\n",
    "\n",
    "The species' chemical potentials $\\mu_{k}$ implied by the free-energy density read\n",
    "\n",
    "\\begin{equation}\n",
    "\\mu_{k}(\\vec{r}) = \\delta_{c_k} f(c_{k}\\big( \\vec r ) \\big) = k_{\\mathrm{B}}T \\log(\\Lambda_{k}^{3} c_{k}(\\vec{r})) + z_{k} e \\Phi(\\vec{r}) .\n",
    "\\end{equation}\n",
    "\n",
    "This in turn allows us to formulate the first-order approximation to the thermodynamic driving force as the gradient of the chemical potential, which we use to define an expression for the diffusive flux\n",
    "\n",
    "\\begin{aligned}\n",
    "\\vec{j}_{k}^{\\mathrm{diff}} &= \\xi_{k} \\left( -c_{k} \\nabla \\mu_{k} \\right) = -k_{\\mathrm{B}}T \\xi_{k} \\nabla c_{k} - \\xi_{k} z_{k} e c_{k} \\nabla\\Phi \\\\\n",
    "&= -D_{k} \\nabla c_{k} - \\xi_{k} z_{k} e c_{k} \\nabla \\Phi .\n",
    "\\end{aligned}\n",
    "\n",
    "Here, $\\xi_{k}$ and $D_{k}$ denote the mobility and the diffusion coefficient of species $k$, which are related by the Einstein-Smoluchowski relation $D_{k} / \\xi_{k} = k_{\\mathrm{B}}T$ [11,12].\n",
    "\n",
    "Finally, the total number density flux combining effects of diffusion and advection reads\n",
    "\n",
    "\\begin{equation}\n",
    "\\vec{j}_{k} = \\vec{j}_{k}^{\\mathrm{diff}} + \\vec{j}_{k}^{\\mathrm{adv.}} = -D_{k} \\nabla c_{k} - \\xi_{k} z_{k} e c_{k} \\nabla \\Phi + c_{k} \\vec{u} , \n",
    "\\end{equation}\n",
    "\n",
    "where the first term represents Fick's law of diffusion in the absence of an external potential, the second term gives the additional flux due to an external (in this case electrostatic) potential, and the last term introduces the influence of the motion of the underlying solvent."
   ]
  },
  {
   "cell_type": "markdown",
   "metadata": {},
   "source": [
    "#### Electrostatics\n",
    "\n",
    "The dynamics of the charged species in a typical micro- or nanofluidic system are slow compared to the relaxation of the electromagnetic fields.\n",
    "This allows us to use stationary equations to model electromagnetic effects.\n",
    "We further assume that the modeled species do not carry permanent magnetic dipoles and that electric currents in the system are small.\n",
    "Under these conditions, the full set of Maxwell's equations reduces to the Poisson equation\n",
    "\n",
    "\\begin{equation}\n",
    "\\nabla^2 \\Phi = - \\frac{1}{\\varepsilon} \\sum_{k} z_{k} e c_{k} = -4 \\pi l_\\mathrm{B} k_{\\mathrm{B}}T \\sum_{k} z_{k} c_{k} . \n",
    "\\end{equation}\n",
    "\n",
    "Here $\\varepsilon = \\varepsilon_{0} \\varepsilon_r$ denotes the product of the vacuum permittivity $\\varepsilon_{0}$ with the relative permittivity of the solvent $\\varepsilon_r$.\n",
    "We have also used the Bjerrum-length\n",
    "\n",
    "\\begin{equation}\n",
    "l_\\mathrm{B} = \\frac{e^{2}}{4 \\pi \\varepsilon k_{\\mathrm{B}}T}.\n",
    "\\end{equation}\n",
    "\n",
    "Finally, we have assumed that the permittivity is spatially homogeneous, since this will allow us to use efficient spectral methods to solve this equation.\n"
   ]
  },
  {
   "cell_type": "markdown",
   "metadata": {},
   "source": [
    "#### Hydrodynamics\n",
    "\n",
    "As said before, since the ionic species' contribute at most a few percent to the overall mass, we can safely approximate the overall fluid's mass by the mass of the solvent (typically water) and model the solvents velocity field $\\vec{u}(\\vec{r}, t)$ using the Navier-Stokes equations for an isotropic, incompressible Newtonian fluid\n",
    "\n",
    "\\begin{aligned}\n",
    "\\rho \\big( \\partial_t \\vec{u} + \\left(\\vec{u} \\cdot \\nabla \\right) \\vec{u} \\big) &= -\\nabla p_H + \\eta \\nabla^{2} \\vec{u} + \\vec{f} ,\\\\\n",
    "\\nabla \\cdot \\vec u &= 0 .\n",
    "\\end{aligned}\n",
    "\n",
    "where $p_H$ denotes the hydrostatic pressure, $\\eta$ the shear viscosity, $\\rho$ the density of the fluid, and $\\vec{f}$ an external body force density.\n",
    "For the assumption of incompressibility to hold, the Mach number needs to be small &ndash; a condition that is fulfilled for micro- and nanofluidic systems with flow velocities on the order of &mu;m/s.\n",
    "\n",
    "Earlier we assumed that the ions' velocity relative to the fluid instantaneously relaxes to a stationary state and that this stationary velocity is given by the product of their mobility and the force exerted on them.\n",
    "For this state to be stationary, all the momentum transferred into the ions by the external force needs to be dissipated into the fluid immediately.\n",
    "From this we can conclude that the force density acting on the fluid must read\n",
    "\n",
    "\\begin{equation}\n",
    "\\vec{f} = \\sum_{k} \\vec{j}^\\mathrm{diff}_k / \\xi_{k} = -\\sum_{k} (k_\\mathrm{B}T \\nabla c_{k} + z_{k} e c_{k} \\nabla \\Phi) .\n",
    "\\end{equation}\n",
    "\n",
    "Summarizing, the set of electrokinetic equations we solve is given by\n",
    "\n",
    "\\begin{aligned}\n",
    "\\vec{j}_{k} &= -D_{k} \\nabla c_{k} - \\xi_{k} z_{k} e c_{k} \\nabla \\Phi + c_{k} \\vec{u} ,\\\\\n",
    "\\partial_{t} c_{k} &= -\\nabla \\cdot\\vec{j}_{k} ,\\\\\n",
    "\\nabla^2 \\Phi &= -4 \\pi l_\\mathrm{B} k_\\mathrm{B}T \\textstyle\\sum_{k} z_{k} c_{k} ,\\\\\n",
    "\\rho \\big( \\partial_t \\vec{u} + (\\vec{u} \\cdot \\nabla ) \\vec{u} \\big) &= -\\nabla p_H + \\eta \\nabla^{2} \\vec{u} - \\textstyle\\sum_{k} (k_\\mathrm{B}T \\nabla c_{k} + z_{k} e c_{k} \\nabla \\Phi) ,\\\\\n",
    "\\nabla \\cdot \\vec{u} &= 0 .\n",
    "\\end{aligned}"
   ]
  },
  {
   "cell_type": "markdown",
   "metadata": {},
   "source": [
    "### EOF in the Slit Pore Geometry\n",
    "\n",
    "The slit pore system depicted in Fig. 1 consists of two like charged parallel plates of infinite extent, confining a solution of water and the plates' counterions.\n",
    "\n",
    "<figure>\n",
    "    <img src='figures/schlitzpore_3d.png' alt='missing' style=\"width: 500px;\"/>\n",
    "    <center>\n",
    "    <figcaption>Figure 1: Slit pore system and coordinate system used for the analytical calculations.</figcaption>\n",
    "    </center>\n",
    "</figure>\n",
    "\n",
    "Due to the net neutrality of the system and the translational symmetry in directions parallel to the plates, the potential outside the two plates must be constant.\n",
    "This means that using periodic or non-periodic boundary conditions makes no difference.\n",
    "As the system is in equilibrium in the normal direction, the electrokinetic equations for this dimension reduce to the Poisson-Boltzmann equation for the electrostatic potential, which reads\n",
    "\\begin{equation}\n",
    "\\partial_x^2 \\Phi(x) = -4 \\pi \\, k_\\mathrm{B}T \\, l_\\mathrm{B} \\, ze \\, c_0 \\cdot \\exp{\\left(-\\frac{ze\\Phi(x)}{k_\\mathrm{B}T}\\right)} \\; ,\n",
    "\\end{equation}\n",
    "where $x$ denotes the direction normal to the plates.\n",
    "The constant $c_0$ has to be chosen such that charge neutrality is fulfilled.\n",
    "Multiplying by $2 \\partial_x \\Phi(x)$ and applying the inverse chain rule further reduces the equation to first order.\n",
    "Subsequent separation of variables yields the solution\n",
    "\\begin{equation}\n",
    "\\Phi(x) = -\\frac{k_\\mathrm{B}T}{ze} \\cdot \\log \\left[ \\frac{C^2}{8 \\pi \\, k_\\mathrm{B}T \\, l_\\mathrm{B}} \\cdot \\cos^{-2}\\left( \\frac{zeC}{2 k_\\mathrm{B}T} \\cdot x\\right) \\right], \\quad \\left| \\frac{zeC}{2 k_\\mathrm{B}T} \\cdot x \\right| < \\frac \\pi 2\\; .\n",
    "\\end{equation}\n",
    "Refer to [4] for details on this calculation.\n",
    "Knowing that the counterion density $c$ resembles a Boltzmann distribution in the potential $ze \\Phi$ leads to the expression\n",
    "\\begin{equation}\n",
    "c(x) = \\frac{C^2}{8 \\pi \\, k_\\mathrm{B}T \\, l_\\mathrm{B}} \\cdot \\cos^{-2} \\left( \\frac{zeC}{2 k_\\mathrm{B}T} \\cdot x \\right) \\; .\n",
    "\\end{equation}\n",
    "The constant $C$ is determined by fixing the number of counterions or requiring the E-field to vanish outside the volume contained by the plates.\n",
    "Both yields\n",
    "\\begin{equation}\n",
    "C \\cdot \\tan \\left( \\frac{zed}{4 k_\\mathrm{B}T} \\cdot C \\right) = -4 \\pi \\, k_\\mathrm{B}T \\, l_\\mathrm{B} \\sigma \\; ,\n",
    "\\end{equation}\n",
    "where $d$ denotes the distance between the plates and $\\sigma$ their (constant) surface charge density.\n",
    "\n",
    "Applying an electric field along one of the directions parallel to the plates does not influence the charge distribution in the normal direction, which allows us to write down the hydrodynamic equations for the parallel direction.\n",
    "After eliminating all terms from the Navier-Stokes Equations, which vanish due to symmetry, we are left with\n",
    "\\begin{equation}\n",
    "\\frac{\\partial_x^2 v_y(x)}{\\partial x^2} = -\\frac{q E C^2}{8 \\, k_\\mathrm{B}T \\, l_\\mathrm{B} \\, \\eta} \\cdot \\cos^{-2} \\left( \\frac{qC}{2 k_\\mathrm{B}T} \\cdot x \\right) \\; ,\n",
    "\\end{equation}\n",
    "which yields, by means of simple integration and the application of no-slip boundary conditions\n",
    "\\begin{equation}\n",
    "v_y(x) = \\frac{E}{2 \\pi \\, l_\\mathrm{B} \\, \\eta \\, ze} \\cdot \\log \\left[ \\frac{\\cos \\left( \\frac{zeC}{2 k_\\mathrm{B}T} \\cdot x \\right)}{\\cos \\left( \\frac{zeC}{2 k_\\mathrm{B}T} \\cdot \\frac d 2 \\right)} \\right] \\; .\n",
    "\\end{equation}\n",
    "\n",
    "With this tutorial comes a Python script <tt>eof_analytical.py</tt>, which evaluates all these expressions on the same grid as is used in the upcoming simulation."
   ]
  },
  {
   "cell_type": "markdown",
   "metadata": {},
   "source": [
    "## Simulation using ESPResSo"
   ]
  },
  {
   "cell_type": "markdown",
   "metadata": {},
   "source": [
    "### Mapping SI and Simulation Units\n",
    "\n",
    "ESPResSo does not predefine any unit system.\n",
    "This makes it more flexible but also requires us to spend some thought on the conversion from SI units to simulation units and back.\n",
    "Since most first time users have trouble with this, we will go through that process in detail here.\n",
    "\t\n",
    "Important to note is that ESPResSo's unit system is nothing more than a rescaled variant of the SI system.\n",
    "All physical formulas you are used to in the SI system remain valid and you can use them to find relations between your units.\n",
    "Let's start by choosing a unit of length.\n",
    "Since we are going to deal with Debye layers with extensions of nanometers, a sensible choice is\n",
    "\n",
    "\\begin{equation}\n",
    "[x]=1\\mathrm{nm}.\n",
    "\\end{equation}\n",
    "\n",
    "The involved energies are of the magnitude of $k_{\\mathrm{B}}T$.\n",
    "We will simulate our system at room temperature ($300\\mathrm{K}$), hence we use as unit of energy\n",
    "\\begin{equation}\n",
    "[E]=k_\\mathrm{B}\\cdot 300\\mathrm{K}\\approx 4.14 \\cdot 10^{-21}\\mathrm{J}.\n",
    "\\end{equation}\n",
    "\n",
    "By default ESPResSo has no concept for particle masses (but the feature can be activated).\n",
    "That means all particle masses are assumed to be $1\\,[\\mathrm{m}]$, which forces us to use the particle mass as mass unit.\n",
    "For this simulation we use the mass of sodium ions, which is\n",
    "\\begin{equation}\n",
    "[m]=23\\mathrm{u}\\approx 3.82\\cdot 10^{-26}\\mathrm{kg}.\n",
    "\\end{equation}\n",
    "\n",
    "For the relation\n",
    "\\begin{equation}\n",
    "E=\\frac 1 2 mv^2\n",
    "\\end{equation}\n",
    "\n",
    "to hold, the unit of time has to be defined so that\n",
    "\\begin{equation}\n",
    "[E]=[m]\\cdot\\frac{[x]^2}{[t]^2}.\n",
    "\\end{equation}\n",
    "\n",
    "From that we get the missing unit of time\n",
    "\\begin{equation}\n",
    "[t]=[x]\\cdot\\sqrt{\\frac{[m]}{[E]}}=1\\mathrm{nm}\\cdot\\sqrt{\\frac{23\\mathrm{u}}{k_B\\cdot 300\\mathrm{K}}}\\approx 3.03760648\\cdot 10^{-12}\\mathrm{s}\\approx 3.04\\mathrm{ps}.\n",
    "\\end{equation}\n",
    "\n",
    "The last unit we need is the one of charge.\n",
    "We choose it to be the elementary charge\n",
    "\\begin{equation}\n",
    "[q]=e\\approx 1.60\\cdot 10^{-19}\\mathrm{C}.\n",
    "\\end{equation}\n",
    "\n",
    "We now have all the units necessary to convert our simulation parameters."
   ]
  },
  {
   "cell_type": "markdown",
   "metadata": {},
   "source": [
    "|parameter |value (SI units) | value (simulation units)|\n",
    "|:---------|----------------:|------------------------:|\n",
    "|channel width $d$ | $50\\mathrm{nm}$ | $50\\mathrm{[x]}$|\n",
    "|thermal energy $k_B T$ | $k_B\\cdot 300\\mathrm{K}$ | $1\\mathrm{[E]}$|\n",
    "|Bjerrum length $l_B$ | $0.7095\\mathrm{nm}$ | $0.7095\\mathrm{[x]}$|\n",
    "|counterion charge $q$ | $1e$ | $1\\mathrm{[q]}$|\n",
    "|counterion diffusion coefficient $D$ | $2.0\\cdot 10^{-9}\\mathrm{m^2/s}$ | $0.006075\\mathrm{[x]^2/[t]}$|\n",
    "|solvent density $\\rho$ | $1.0\\cdot 10^{3}\\mathrm{kg/m^3}$ | $26.18\\mathrm{[m]/[x]^3}$|\n",
    "|solvent dynamic viscosity $\\eta$ | $1.0\\cdot 10^{-3}\\mathrm{Pa}\\mathrm{s}$ | $79.53\\mathrm{[m]/([x][t])}$|\n",
    "|external electric field $E$ | $2.585\\cdot 10^{6}\\mathrm{V/m}$ | $0.1\\mathrm{[E]/([q][x])}$|\n"
   ]
  },
  {
   "cell_type": "markdown",
   "metadata": {},
   "source": [
    "ESPResSo determines the strength of the electrostatic interactions via the Bjerrum-length $l_\\mathrm{B}$.\n",
    "That is the length for which the electrostatic interaction energy of two elementary charges equals the thermal energy\n",
    "\n",
    "\\begin{equation}\n",
    "k_\\mathrm{B} T=\\frac{e^2}{4\\pi\\varepsilon_0\\varepsilon_r}\\cdot\\frac 1 {l_\\mathrm{B}}.\n",
    "\\end{equation}\n",
    "\n",
    "This yields for water at $300K$ with $\\varepsilon_r = 78.54$, a Bjerrum length of $l_\\mathrm{B}\\approx 0.7095\\mathrm{nm}$."
   ]
  },
  {
   "cell_type": "markdown",
   "metadata": {},
   "source": [
    "### Setting up the slit pore system\n",
    "\n",
    "The script for this simulation comes with this tutorial and is called <tt>eof_electrokinetics.py</tt>.\n",
    "All used commands are documented in the User's Guide in the section called **Electrokinetics**.\n",
    "\n",
    "We first set up a periodic simulation box of the desired dimensions.\n",
    "Note that the dimensions are, of course, given in simulation units."
   ]
  },
  {
   "cell_type": "code",
   "execution_count": null,
   "metadata": {},
   "outputs": [],
   "source": [
    "# Initializing espresso modules and the numpy package\n",
    "import espressomd\n",
    "import espressomd.electrokinetics\n",
    "import espressomd.shapes\n",
    "\n",
    "espressomd.assert_features([\"WALBERLA\", \"WALBERLA_FFT\"])\n",
    "\n",
    "import tqdm\n",
    "import numpy as np\n",
    "%matplotlib inline\n",
    "import matplotlib.pyplot as plt\n",
    "plt.rcParams.update({'font.size': 16})\n",
    "\n",
    "box_y = 6\n",
    "box_z = 6\n",
    "width = 50\n",
    "\n",
    "padding = 1\n",
    "box_x = width + 2 * padding\n",
    "\n",
    "system = espressomd.System(box_l=[box_x, box_y, box_z])"
   ]
  },
  {
   "cell_type": "markdown",
   "metadata": {},
   "source": [
    "We then store all the parameters we calculated earlier.\n",
    "At this point, these parameters only reside in Python variables.\n",
    "They will only be used by ESPResSo once they are being passed to the respective initialization functions."
   ]
  },
  {
   "cell_type": "code",
   "execution_count": null,
   "metadata": {},
   "outputs": [],
   "source": [
    "# Set the electrokinetic parameters\n",
    "\n",
    "agrid = 1.0\n",
    "dt = 0.5\n",
    "kT = 4.0\n",
    "bjerrum_length = 0.7095\n",
    "permittivity = 1. / (4 * np.pi * bjerrum_length)\n",
    "D = 0.006075\n",
    "valency = 1.0\n",
    "viscosity_dynamic = 79.53\n",
    "density_water = 26.15\n",
    "sigma = -0.05\n",
    "ext_force_density = [0.0, 0.1, 0.0]\n",
    "\n",
    "single_precision = False"
   ]
  },
  {
   "cell_type": "markdown",
   "metadata": {},
   "source": [
    "Before we initialize the actual electrokinetics algorithm, we need to set the time step and some other parameters that are not actually used, but would otherwise lead to error messages."
   ]
  },
  {
   "cell_type": "code",
   "execution_count": null,
   "metadata": {},
   "outputs": [],
   "source": [
    "# Set the simulation parameters\n",
    "\n",
    "system.time_step = dt\n",
    "system.cell_system.skin = 0.2\n",
    "system.thermostat.turn_off()\n",
    "integration_length = 600"
   ]
  },
  {
   "cell_type": "markdown",
   "metadata": {},
   "source": [
    "We can now set up the electrokinetics algorithm."
   ]
  },
  {
   "cell_type": "code",
   "execution_count": null,
   "metadata": {},
   "outputs": [],
   "source": [
    "lattice = espressomd.lb.LatticeWalberla(agrid=agrid, n_ghost_layers=1)"
   ]
  },
  {
   "cell_type": "code",
   "execution_count": null,
   "metadata": {},
   "outputs": [],
   "source": [
    "viscosity_kinematic = viscosity_dynamic / density_water\n",
    "lbf = espressomd.lb.LBFluidWalberla(lattice=lattice, density=density_water, kinematic_viscosity=viscosity_kinematic, tau=dt, single_precision=single_precision)\n",
    "system.actors.add(lbf)"
   ]
  },
  {
   "cell_type": "code",
   "execution_count": null,
   "metadata": {},
   "outputs": [],
   "source": [
    "eksolver = espressomd.electrokinetics.EKFFT(lattice=lattice, permittivity=permittivity, single_precision=single_precision)\n",
    "\n",
    "system.ekcontainer.solver = eksolver\n",
    "system.ekcontainer.tau = dt"
   ]
  },
  {
   "cell_type": "code",
   "execution_count": null,
   "metadata": {},
   "outputs": [],
   "source": [
    "density_counterions = -2.0 * sigma / width\n",
    "ekspecies = espressomd.electrokinetics.EKSpecies(lattice=lattice, density=0.0, kT=kT, diffusion=D, valency=valency, advection=True, friction_coupling=True, ext_efield=ext_force_density, single_precision=single_precision, tau=dt)\n",
    "system.ekcontainer.add(ekspecies)"
   ]
  },
  {
   "cell_type": "code",
   "execution_count": null,
   "metadata": {},
   "outputs": [],
   "source": [
    "ekwallcharge = espressomd.electrokinetics.EKSpecies(lattice=lattice, density=0.0, kT=kT, diffusion=0., valency=-valency, advection=False, friction_coupling=False, ext_efield=[0, 0, 0], single_precision=single_precision, tau=dt)\n",
    "system.ekcontainer.add(ekwallcharge)"
   ]
  },
  {
   "cell_type": "code",
   "execution_count": null,
   "metadata": {},
   "outputs": [],
   "source": [
    "wall_left = espressomd.shapes.Wall(normal=[1, 0, 0], dist=padding)\n",
    "wall_right = espressomd.shapes.Wall(normal=[-1, 0, 0], dist=-(padding + width))"
   ]
  },
  {
   "cell_type": "code",
   "execution_count": null,
   "metadata": {},
   "outputs": [],
   "source": [
    "ekspecies[padding:-padding, :, :].density = density_counterions"
   ]
  },
  {
   "cell_type": "code",
   "execution_count": null,
   "metadata": {},
   "outputs": [],
   "source": [
    "ekspecies[:padding, :, :].density = 0.0\n",
    "ekspecies[-padding:, :, :].density = 0.0\n",
    "\n",
    "ekwallcharge[:padding, :, :].density = -sigma / valency / padding\n",
    "ekwallcharge[-padding:, :, :].density = -sigma / valency / padding"
   ]
  },
  {
   "cell_type": "code",
   "execution_count": null,
   "metadata": {},
   "outputs": [],
   "source": [
    "for shape_obj in (wall_left, wall_right):\n",
    "    ekspecies.add_boundary_from_shape(shape=shape_obj, value=[0., 0., 0.], boundary_type=espressomd.electrokinetics.FluxBoundary)\n",
    "    ekspecies.add_boundary_from_shape(shape=shape_obj, value=0.0, boundary_type=espressomd.electrokinetics.DensityBoundary)\n",
    "    lbf.add_boundary_from_shape(shape=shape_obj, velocity=[0., 0., 0.])"
   ]
  },
  {
   "cell_type": "code",
   "execution_count": null,
   "metadata": {},
   "outputs": [],
   "source": [
    "# Integrate the system\n",
    "for i in tqdm.trange(100):\n",
    "    system.integrator.run(integration_length)\n",
    "\n",
    "# Output\n",
    "position_list = []\n",
    "density_list = []\n",
    "velocity_list = []\n",
    "pressure_xy_list = []\n",
    "\n",
    "for i in range(int(box_x / agrid)):\n",
    "    if (i * agrid >= padding) and (i * agrid < box_x - padding):\n",
    "        position = i * agrid - padding - width / 2.0 + agrid / 2.0\n",
    "        position_list.append(position)\n",
    "        \n",
    "        node_idxs = (i, int(box_y / (2 * agrid)), int(box_z / (2 * agrid)))\n",
    "\n",
    "        # density\n",
    "        density_list.append(ekspecies[node_idxs].density)\n",
    "\n",
    "        # velocity\n",
    "        velocity_list.append(lbf[node_idxs].velocity[1])\n",
    "\n",
    "        # xz component pressure tensor\n",
    "        pressure_xy_list.append(lbf[node_idxs].pressure_tensor[0, 1])\n",
    "\n",
    "np.savetxt(\"eof_simulation.dat\",\n",
    "           np.column_stack((position_list,\n",
    "                            density_list,\n",
    "                            velocity_list,\n",
    "                            pressure_xy_list)),\n",
    "           header=\"#position calculated_density calculated_velocity calculated_pressure_xy\")"
   ]
  },
  {
   "cell_type": "code",
   "execution_count": null,
   "metadata": {
    "scrolled": true
   },
   "outputs": [],
   "source": [
    "from scripts import eof_analytical # executes automatically upon import\n",
    "\n",
    "# read analytical solution and simulation data\n",
    "data_an = np.loadtxt(\"eof_analytical.dat\")\n",
    "data_ek = np.loadtxt(\"eof_simulation.dat\")\n",
    "\n",
    "fig1 = plt.figure(figsize=(16, 4.5))\n",
    "ax = fig1.add_subplot(131)\n",
    "ax.plot(data_an[:, 0], data_an[:, 1], label=\"analytical\")\n",
    "ax.plot(data_ek[:, 0], data_ek[:, 1], \"o\", mfc=\"none\", label=\"simulation\")\n",
    "ax.set_xlabel(\"x-position\")\n",
    "ax.set_ylabel(\"Counter-ion density\")\n",
    "ax.ticklabel_format(axis=\"y\", style=\"scientific\", scilimits=(0, 0))\n",
    "ax.legend(loc=\"best\")\n",
    "\n",
    "ax = fig1.add_subplot(132)\n",
    "ax.plot(data_an[:, 0], data_an[:, 2], label=\"analytical\")\n",
    "ax.plot(data_ek[:, 0], data_ek[:, 2], \"o\", mfc=\"none\", label=\"simulation\")\n",
    "ax.set_xlabel(\"x-position\")\n",
    "ax.set_ylabel(\"Fluid velocity\")\n",
    "ax.ticklabel_format(axis=\"y\", style=\"scientific\", scilimits=(0, 0))\n",
    "ax.legend(loc=\"best\")\n",
    "\n",
    "ax = fig1.add_subplot(133)\n",
    "ax.plot(data_an[:, 0], data_an[:, 3], label=\"analytical\")\n",
    "ax.plot(data_ek[:, 0], data_ek[:, 3], \"o\", mfc=\"none\", label=\"simulation\")\n",
    "ax.set_xlabel(\"x-position\")\n",
    "ax.set_ylabel(\"Fluid shear stress xz\")\n",
    "ax.ticklabel_format(axis=\"y\", style=\"scientific\", scilimits=(0, 0))\n",
    "ax.legend(loc=\"best\")\n",
    "\n",
    "plt.tight_layout()\n",
    "plt.show()"
   ]
  },
  {
   "cell_type": "markdown",
   "metadata": {},
   "source": [
    "## References\n",
    "\n",
    "[1] F. Capuani, I. Pagonabarraga and D. Frenkel *Discrete solution of the electrokinetic equations* The Journal of Chemical Physics, 2004  \n",
    "[2] G. Rempfer *A Lattice based Model for Electrokinetics* Master's thesis, University of Stuttgart, 2013  \n",
    "[3] G. Rempfer, G. B. Davies, C. Holm and J. de Graaf *Reducing spurious flow in simulations of electrokinetic phenomena* The Journal of Chemical Physics, 2016  \n",
    "[4] G. Rempfer *Lattice-Boltzmann simulations in complex geometries* Bachelor's thesis, University of Stuttgart, Institute for Computational Physics, 2010  \n",
    "[5] M. Deserno and C. Holm and S. May, *Fraction of Condensed Counterions around a Charged Rod: Comparison of Poisson-Boltzmann Theory and Computer Simulations* Macromolecules, 2000  \n",
    "[6] C. Holm, P. K&eacute;kicheff and R. Podgornik *Electrostatic Effects in Soft Matter and Biophysics* Kluwer Academic Publishers, 2001  \n",
    "[7] M. Deserno and C. Holm *Cell-model and Poisson-Boltzmann-theory: A brief introduction* Electrostatic Effects in Soft Matter and Biophysics, Kluwer Academic Publishers, 2001  \n",
    "[8] J de Graaf., G. Rempfer and C. Holm *Diffusiophoretic Self-Propulsion for Partially Catalytic Spherical Colloids* IEEE T. Nanobiosci., 2014  \n",
    "[9] M. Deserno *Counterion condensation for rigid linear polyelectrolytes* Universit&auml;t Mainz, 2000  \n",
    "[10] J. de Graaf, N Boon, M Dijkstra and R. van Roij *Electrostatic interactions between Janus particles* The Journal of Chemical Physics, 2012   \n",
    "[11] A. Einstein *&Uuml;ber die von der molekularkinetischen Theorie der W&auml;rme geforderte Bewegung von in ruhenden Fl&uuml;ssigkeiten suspendierten Teilchen* Annalen der Physik, 1905  \n",
    "[12] M. von Smoluchowski *Zur kinetischen Theorie der Brownschen Molekularbewegung und der Suspensionen* Annalen der Physik, 1906  \n"
   ]
  },
  {
   "cell_type": "code",
   "execution_count": null,
   "metadata": {},
   "outputs": [],
   "source": []
  }
 ],
 "metadata": {
  "kernelspec": {
   "display_name": "Python 3 (ipykernel)",
   "language": "python",
   "name": "python3"
  },
  "language_info": {
   "codemirror_mode": {
    "name": "ipython",
    "version": 3
   },
   "file_extension": ".py",
   "mimetype": "text/x-python",
   "name": "python",
   "nbconvert_exporter": "python",
   "pygments_lexer": "ipython3",
   "version": "3.10.6"
  }
 },
 "nbformat": 4,
 "nbformat_minor": 2
}
