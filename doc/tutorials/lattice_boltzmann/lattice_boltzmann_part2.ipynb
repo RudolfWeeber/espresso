{
 "cells": [
  {
   "cell_type": "markdown",
   "metadata": {},
   "source": [
    "# The Lattice-Boltzmann Method in ESPResSo - Part 2"
   ]
  },
  {
   "cell_type": "markdown",
   "metadata": {},
   "source": [
    "## Diffusion of a single particle\n",
    "\n",
    "In these exercises we want to reproduce a classic result of polymer physics: the dependence \n",
    "of the diffusion coefficient of a polymer on its chain length. If no hydrodynamic interactions\n",
    "are present, one expects a scaling law $D \\propto N ^{- 1}$ and if they are present, a scaling law\n",
    "$D \\propto N^{- \\nu}$ is expected. Here $\\nu$ is the Flory exponent that plays a very prominent\n",
    "role in polymer physics. It has a value of $\\sim 3/5$ in good solvent conditions in 3D.\n",
    "Discussions on these scaling laws can be found in polymer physics textbooks like [4–6].\n",
    "\n",
    "The reason for the different scaling law is the following: when being transported, every monomer\n",
    "creates a flow field that follows the direction of its motion. This flow field makes it easier for\n",
    "other monomers to follow its motion. This makes a polymer (given it is sufficiently long) diffuse\n",
    "more like a compact object including the fluid inside it, although it does not have clear boundaries.\n",
    "It can be shown that its motion can be described by its hydrodynamic radius. It is defined as:\n",
    "\n",
    "\\begin{equation}\n",
    "  \\left\\langle \\frac{1}{R_h} \\right\\rangle = \\left\\langle \\frac{1}{N^2}\\sum_{i\\neq j} \\frac{1}{\\left| r_i - r_j \\right|} \\right\\rangle\n",
    "\\end{equation}\n",
    "\n",
    "This hydrodynamic radius exhibits the scaling law  $R_h \\propto N^{\\nu}$\n",
    "and the diffusion coefficient of a long polymer is proportional to its inverse $R_h$.\n",
    "\n",
    "For shorter polymers there is a transition region. It can be described\n",
    "by the Kirkwood–Zimm model:\n",
    "\n",
    "\\begin{equation}\n",
    "  D=\\frac{D_0}{N} + \\frac{k_B T}{6 \\pi \\eta } \\left\\langle \\frac{1}{R_h} \\right\\rangle\n",
    "\\end{equation}\n",
    "\n",
    "Here $D_0$ is the monomer diffusion coefficient and $\\eta$ the \n",
    "viscosity of the fluid. For a finite system size the second part of the\n",
    "diffusion is subject to a $1/L$ finite size effect, because\n",
    "hydrodynamic interactions are proportional to the inverse\n",
    "distance and thus long ranged. It can be taken into account\n",
    "by a correction:\n",
    "\n",
    "\\begin{equation}\n",
    "  D=\\frac{D_0}{N} + \\frac{k_B T}{6 \\pi \\eta } \\left\\langle \\frac{1}{R_h} \\right\\rangle \\left( 1- \\left\\langle\\frac{R_h}{L} \\right\\rangle \\right)\n",
    "\\end{equation}\n",
    "\n",
    "It is quite difficult to prove this formula computationally with good accuracy.\n",
    "It will need quite some computational effort and a careful analysis. So please don't be\n",
    "too disappointed if you don't manage to do so.\n",
    "\n",
    "We want to determine the long-time self diffusion coefficient from the mean square\n",
    "displacement of the center-of-mass of a single polymer. For large $t$ the mean square displacement is\n",
    "proportional to the time and the diffusion coefficient occurs as a \n",
    "prefactor:\n",
    "\n",
    "\\begin{equation}\n",
    "    D = \\lim_{t\\to\\infty}\\left[ \\frac{1}{6t} \\left\\langle \\left(\\vec{r}(t) - \\vec{r}(0)\\right)^2 \\right\\rangle \\right].\n",
    "\\end{equation}\n",
    "\n",
    "This equation can be found in virtually any simulation textbook, like [7]. We will set up a\n",
    "polymer in an implicit solvent, simulate for an appropriate amount of time, calculate the mean square\n",
    "displacement as a function of time and obtain the diffusion coefficient from a linear\n",
    "fit. However we will have a couple of steps inbetween and divide the full problem into\n",
    "subproblems that allow to (hopefully) fully understand the process."
   ]
  },
  {
   "cell_type": "markdown",
   "metadata": {},
   "source": [
    "### 1. Setting up the observable"
   ]
  },
  {
   "cell_type": "markdown",
   "metadata": {
    "solution2": "hidden",
    "solution2_first": true
   },
   "source": [
    "Write a function with signature `correlator_msd(pid, tau_max)` that returns a\n",
    "mean-squared displacement correlator that is updated every time step."
   ]
  },
  {
   "cell_type": "markdown",
   "metadata": {
    "solution2": "hidden"
   },
   "source": [
    "```python\n",
    "def correlator_msd(pid, tau_max):\n",
    "    pos = espressomd.observables.ParticlePositions(ids=(pid,))\n",
    "    pos_cor = espressomd.accumulators.Correlator(\n",
    "        obs1=pos, tau_lin=16, tau_max=tau_max, delta_N=1,\n",
    "        corr_operation=\"square_distance_componentwise\", compress1=\"discard1\")\n",
    "    return pos_cor\n",
    "```"
   ]
  },
  {
   "cell_type": "code",
   "execution_count": null,
   "metadata": {},
   "outputs": [],
   "source": []
  },
  {
   "cell_type": "markdown",
   "metadata": {},
   "source": [
    "### 2. Simulating the Brownian motion"
   ]
  },
  {
   "cell_type": "markdown",
   "metadata": {},
   "source": [
    "We will simulate the diffusion of a single particle that is coupled to an implicit solvent."
   ]
  },
  {
   "cell_type": "code",
   "execution_count": null,
   "metadata": {},
   "outputs": [],
   "source": [
    "import numpy as np\n",
    "import logging\n",
    "import sys\n",
    "\n",
    "import espressomd\n",
    "import espressomd.accumulators\n",
    "import espressomd.observables\n",
    "\n",
    "logging.basicConfig(level=logging.INFO, stream=sys.stdout)\n",
    "\n",
    "# Constants\n",
    "KT = 1.1\n",
    "STEPS = 400000\n",
    "\n",
    "# System setup\n",
    "system = espressomd.System(box_l=[16] * 3)\n",
    "system.time_step = 0.01\n",
    "system.cell_system.skin = 0.4\n",
    "\n",
    "system.part.add(pos=[0, 0, 0])\n",
    "\n",
    "# Run for different friction coefficients\n",
    "gammas = [1.0, 2.0, 4.0, 10.0]\n",
    "tau_results = []\n",
    "msd_results = []\n",
    "\n",
    "for gamma in gammas:\n",
    "    system.auto_update_accumulators.clear()\n",
    "    system.thermostat.turn_off()\n",
    "    system.thermostat.set_langevin(kT=KT, gamma=gamma, seed=42)\n",
    "\n",
    "    logging.info(\"Equilibrating the system.\")\n",
    "    system.integrator.run(1000)\n",
    "    logging.info(\"Equilibration finished.\")\n",
    "\n",
    "    # Setup observable correlator\n",
    "    correlator = correlator_msd(0, STEPS)\n",
    "    system.auto_update_accumulators.add(correlator)\n",
    "\n",
    "    logging.info(\"Sampling started for gamma = {}.\".format(gamma))\n",
    "    system.integrator.run(STEPS)\n",
    "    correlator.finalize()\n",
    "    tau_results.append(correlator.lag_times())\n",
    "    msd_results.append(np.sum(correlator.result().reshape([-1, 3]), axis=1))\n",
    "\n",
    "logging.info(\"Sampling finished.\")"
   ]
  },
  {
   "cell_type": "markdown",
   "metadata": {},
   "source": [
    "### 3. Data analysis\n",
    "#### 3.1 Plotting the results"
   ]
  },
  {
   "cell_type": "code",
   "execution_count": null,
   "metadata": {},
   "outputs": [],
   "source": [
    "%matplotlib notebook\n",
    "import matplotlib.pyplot as plt\n",
    "\n",
    "plt.rcParams.update({'font.size': 22})\n",
    "\n",
    "plt.figure(figsize=(10, 10))\n",
    "plt.xlabel(r'$\\tau$ [$\\Delta t$]')\n",
    "plt.ylabel(r'MSD [$\\sigma^2$]')\n",
    "for index, (tau, msd) in enumerate(zip(tau_results, msd_results)):\n",
    "    # We skip the first entry since it's zero by definition and cannot be displayed\n",
    "    # in a loglog plot. Furthermore, we only look at the first 100 entries due to\n",
    "    # the high variance for larger lag times.\n",
    "    plt.loglog(tau[1:100], msd[1:100], label=r'$\\gamma=${:.1f}'.format(gammas[index]))\n",
    "plt.legend()\n",
    "plt.show()"
   ]
  },
  {
   "cell_type": "markdown",
   "metadata": {},
   "source": [
    "#### 3.2 Calculating the diffusion coefficient\n",
    "\n",
    "In this script an implicit solvent and a single particle are created and thermalized.\n",
    "The random forces on the particle will cause the particle to move.\n",
    "The mean squared displacement is calculated during the simulation via a multiple-tau\n",
    "correlator. \n",
    "Can you give an explanation for the quadratic time dependency for short times?"
   ]
  },
  {
   "cell_type": "markdown",
   "metadata": {},
   "source": [
    "The MSD of a Brownian motion can be decomposed in three main regimes [8]:\n",
    "* for short lag times $\\tau < \\tau_p$, the particle motion is not\n",
    "  significantly impeded by solvent collisions: it's in the ballistic mode\n",
    "  (collision-free regime) where $\\operatorname{MSD}(t) \\sim (k_BT / m) t^2$\n",
    "* for long lag times $\\tau > \\tau_f$, the particle motion is determined by\n",
    "  numerous collisions with the solvent: it's in the diffusive mode where\n",
    "  $\\operatorname{MSD}(t) \\sim 6t$\n",
    "* for lag times between $\\tau_p$ and $\\tau_f$, there is a crossover mode\n",
    "\n",
    "The values $\\tau_p$ and $\\tau_f$ can be obtained manually through visual\n",
    "inspection of the MSD plot, or more accurately by non-linear fitting [9].\n",
    "\n",
    "The cutoff lag time $\\tau_p$ between the ballistic and crossover modes is proportional\n",
    "to the particle mass and inversely proportional to the friction coefficient. \n",
    "In the graph below, a parabola is fitted to the data points in the ballistic mode for\n",
    "each $\\gamma$ and plotted beyond the crossover region to reveal the deviation from the\n",
    "ballistic mode. This deviation is clearly visible in the $\\gamma = 10$ case, because\n",
    "the assumption of a collision-free regime quickly breaks down when a particle is\n",
    "coupled to its surrounding fluid with a high friction coefficient."
   ]
  },
  {
   "cell_type": "code",
   "execution_count": null,
   "metadata": {},
   "outputs": [],
   "source": [
    "import scipy.optimize\n",
    "\n",
    "\n",
    "def quadratic(x, a, b, c):\n",
    "    return a * x**2 + b * x + c\n",
    "\n",
    "\n",
    "# cutoffs for the ballistic regime (different for each gamma value)\n",
    "tau_p_values = [14, 12, 10, 7]\n",
    "\n",
    "plt.figure(figsize=(10, 10))\n",
    "plt.xlabel(r'$\\tau$ [$\\Delta t$]')\n",
    "plt.ylabel(r'MSD [$\\sigma^2$]')\n",
    "for index, (tau_p, tau, msd) in enumerate(zip(tau_p_values, tau_results, msd_results)):\n",
    "    (a, b, c), _ = scipy.optimize.curve_fit(quadratic, tau[:tau_p], msd[:tau_p])\n",
    "    x = np.linspace(tau[0], tau[max(tau_p_values) - 1], 50)\n",
    "    p = plt.plot(x, quadratic(x, a, b, c), '-')\n",
    "    plt.plot(tau[:max(tau_p_values)], msd[:max(tau_p_values)], 'o', color=p[0].get_color(),\n",
    "             label=r'$\\gamma=${:.1f}'.format(gammas[index]))\n",
    "plt.legend()\n",
    "plt.show()"
   ]
  },
  {
   "cell_type": "markdown",
   "metadata": {},
   "source": [
    "Use the function [<tt>curve_fit()</tt>](https://docs.scipy.org/doc/scipy/reference/generated/scipy.optimize.curve_fit.html) from the module <tt>scipy.optimize</tt> to produce a fit for the linear regime and determine the diffusion coefficients for the different $\\gamma$s."
   ]
  },
  {
   "cell_type": "markdown",
   "metadata": {},
   "source": [
    "For large $t$ the diffusion coefficient can be expressed as:\n",
    "\n",
    "$$6D = \\lim_{t\\to\\infty} \\frac{\\partial \\operatorname{MSD}(t)}{\\partial t}$$\n",
    "\n",
    "which is simply the slope of the MSD in the diffusive mode."
   ]
  },
  {
   "cell_type": "code",
   "execution_count": null,
   "metadata": {},
   "outputs": [],
   "source": [
    "def linear(x, a, b):\n",
    "    return a * x + b\n",
    "\n",
    "\n",
    "# cutoffs for the diffusive regime (different for each gamma value)\n",
    "tau_f_values = [24, 22, 20, 17]\n",
    "# cutoff for the data series (larger lag times have larger variance due to undersampling)\n",
    "cutoff_limit = 90\n",
    "\n",
    "diffusion_results = []\n",
    "\n",
    "plt.figure(figsize=(10, 8))\n",
    "plt.xlabel(r'$\\tau$ [$\\Delta t$]')\n",
    "plt.ylabel(r'MSD [$\\sigma^2$]')\n",
    "for index, (tau_f, tau, msd) in enumerate(zip(tau_f_values, tau_results, msd_results)):\n",
    "    (a, b), _ = scipy.optimize.curve_fit(linear, tau[tau_f:cutoff_limit], msd[tau_f:cutoff_limit])\n",
    "    x = np.linspace(tau[tau_f], tau[cutoff_limit - 1], 50)\n",
    "    p = plt.plot(x, linear(x, a, b), '-')\n",
    "    plt.plot(tau[tau_f:cutoff_limit], msd[tau_f:cutoff_limit], 'o', color=p[0].get_color(),\n",
    "             label=r'$\\gamma=${:.1f}'.format(gammas[index]))\n",
    "    diffusion_results.append(a / 6)\n",
    "\n",
    "plt.legend()\n",
    "plt.show()"
   ]
  },
  {
   "cell_type": "markdown",
   "metadata": {},
   "source": [
    "Calculate the diffusion coefficient for all cases and plot them as a function of $\\gamma$. What relation do you observe?"
   ]
  },
  {
   "cell_type": "markdown",
   "metadata": {},
   "source": [
    "In the diffusive mode, one can derive $D = k_BT / \\gamma$ from the Stokes–Einstein relation [8]."
   ]
  },
  {
   "cell_type": "code",
   "execution_count": null,
   "metadata": {},
   "outputs": [],
   "source": [
    "plt.figure(figsize=(10, 8))\n",
    "plt.xlabel(r'$\\gamma$')\n",
    "plt.ylabel('Diffusion coefficient [$\\sigma^2/t$]')\n",
    "x = np.linspace(0.9 * min(gammas), 1.1 * max(gammas), 50)\n",
    "y = KT / x\n",
    "plt.plot(x, y, '-', label=r'$k_BT\\gamma^{-1}$')\n",
    "plt.plot(gammas, diffusion_results, 'o', label='D')\n",
    "plt.legend()\n",
    "plt.show()"
   ]
  },
  {
   "cell_type": "markdown",
   "metadata": {},
   "source": [
    "## References\n",
    "\n",
    "[1] S. Succi. *The lattice Boltzmann equation for fluid dynamics and beyond.* Clarendon Press, Oxford, 2001.  \n",
    "[2] B. Dünweg and A. J. C. Ladd. *Advanced Computer Simulation Approaches for Soft Matter Sciences III*, chapter II, pages 89–166. Springer, 2009.  \n",
    "[3] B. Dünweg, U. Schiller, and A.J.C. Ladd. Statistical mechanics of the fluctuating lattice-Boltzmann equation. *Phys. Rev. E*, 76:36704, 2007.  \n",
    "[4] P. G. de Gennes. *Scaling Concepts in Polymer Physics*. Cornell University Press, Ithaca, NY, 1979.  \n",
    "[5] M. Doi. *Introduction to Polymer Physics.* Clarendon Press, Oxford, 1996.  \n",
    "[6] Michael Rubinstein and Ralph H. Colby. *Polymer Physics.* Oxford University Press, Oxford, UK, 2003.  \n",
    "[7] Daan Frenkel and Berend Smit. *Understanding Molecular Simulation*, section 4.4.1. Academic Press, San Diego, second edition, 2002.  \n",
    "[8] R. Huang, I. Chavez, K. Taute, et al. Direct observation of the full transition from ballistic to diffusive Brownian motion in a liquid. *Nature Phys.*, 7, 2011. doi:[10.1038/nphys1953](https://doi.org/10.1038/nphys1953)  \n",
    "[9] M. K. Riahi, I. A. Qattan, J. Hassan, D. Homouz, Identifying short- and long-time modes of the mean-square displacement: An improved nonlinear fitting approach. *AIP Advances*, 9:055112, 2019. doi:[10.1063/1.5098051](https://doi.org/10.1063/1.5098051)  "
   ]
  }
 ],
 "metadata": {
  "kernelspec": {
   "display_name": "Python 3",
   "language": "python",
   "name": "python3"
  },
  "language_info": {
   "codemirror_mode": {
    "name": "ipython",
    "version": 3
   },
   "file_extension": ".py",
   "mimetype": "text/x-python",
   "name": "python",
   "nbconvert_exporter": "python",
   "pygments_lexer": "ipython3",
   "version": "3.6.8"
  }
 },
 "nbformat": 4,
 "nbformat_minor": 1
}
